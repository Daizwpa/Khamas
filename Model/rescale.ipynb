{
 "cells": [
  {
   "cell_type": "code",
   "execution_count": 11,
   "metadata": {},
   "outputs": [],
   "source": [
    "import os\n",
    "import sys\n",
    "module_path = os.path.abspath(os.path.join('..'))\n",
    "if module_path not in sys.path:\n",
    "    sys.path.append(module_path)\n",
    "    %load_ext autoreload\n",
    "%autoreload 2\n",
    "\n",
    "from utils.image_core import imread, imshow, imresize, imSave\n",
    "import numpy as np\n",
    "from Controller.PreprocessImage import PreProcess\n",
    "import os"
   ]
  },
  {
   "cell_type": "code",
   "execution_count": 12,
   "metadata": {},
   "outputs": [],
   "source": [
    "path_Meloidogyne_1 =  \"C:\\\\Users\\\\User\\\\Desktop\\\\Meloidogyne_spp\\\\Meloidogyne_1\"\n",
    "Meloidogyne_1 = os.listdir(path_Meloidogyne_1)\n",
    "\n",
    "path_Meloidogyne_2 = \"C:\\\\Users\\\\User\\\\Desktop\\\\Meloidogyne_spp\\\\Meloidogyne_2\"\n",
    "Meloidogyne_2 = os.listdir(path_Meloidogyne_2)"
   ]
  },
  {
   "cell_type": "code",
   "execution_count": 13,
   "metadata": {},
   "outputs": [],
   "source": [
    "def rescale_list_of_image(list_image, directory):\n",
    "    try:\n",
    "        new_directory = os.path.join(os.path.dirname(directory), \"SCALED_\"+ os.path.basename(directory))\n",
    "        if not os.path.exists(new_directory):\n",
    "            os.mkdir(new_directory)\n",
    "        processor = PreProcess(216, 384, 0)\n",
    "        for path_img in list_image:\n",
    "            \n",
    "            path_old_image = os.path.join(directory, path_img)\n",
    "            scaled_image = processor.process(path_old_image)\n",
    "            new_image_name = path_img.replace(\".tif\", \".png\")\n",
    "            new_path = os.path.join(new_directory, new_image_name)\n",
    "            imSave(scaled_image, new_path)\n",
    "            \n",
    "    except:\n",
    "        raise "
   ]
  },
  {
   "cell_type": "code",
   "execution_count": 14,
   "metadata": {},
   "outputs": [
    {
     "name": "stderr",
     "output_type": "stream",
     "text": [
      "c:\\Users\\User\\Documents\\Python programm\\Khamas\\utils\\image_core.py:78: UserWarning: C:\\Users\\User\\Desktop\\Meloidogyne_spp\\SCALED_Meloidogyne_1\\02.png is a low contrast image\n",
      "  ski.io.imsave(fname=path, arr=image)\n",
      "c:\\Users\\User\\Documents\\Python programm\\Khamas\\utils\\image_core.py:78: UserWarning: C:\\Users\\User\\Desktop\\Meloidogyne_spp\\SCALED_Meloidogyne_1\\03.png is a low contrast image\n",
      "  ski.io.imsave(fname=path, arr=image)\n",
      "c:\\Users\\User\\Documents\\Python programm\\Khamas\\utils\\image_core.py:78: UserWarning: C:\\Users\\User\\Desktop\\Meloidogyne_spp\\SCALED_Meloidogyne_1\\04.png is a low contrast image\n",
      "  ski.io.imsave(fname=path, arr=image)\n",
      "c:\\Users\\User\\Documents\\Python programm\\Khamas\\utils\\image_core.py:78: UserWarning: C:\\Users\\User\\Desktop\\Meloidogyne_spp\\SCALED_Meloidogyne_1\\103.png is a low contrast image\n",
      "  ski.io.imsave(fname=path, arr=image)\n",
      "c:\\Users\\User\\Documents\\Python programm\\Khamas\\utils\\image_core.py:78: UserWarning: C:\\Users\\User\\Desktop\\Meloidogyne_spp\\SCALED_Meloidogyne_1\\12.png is a low contrast image\n",
      "  ski.io.imsave(fname=path, arr=image)\n",
      "c:\\Users\\User\\Documents\\Python programm\\Khamas\\utils\\image_core.py:78: UserWarning: C:\\Users\\User\\Desktop\\Meloidogyne_spp\\SCALED_Meloidogyne_1\\13.png is a low contrast image\n",
      "  ski.io.imsave(fname=path, arr=image)\n",
      "c:\\Users\\User\\Documents\\Python programm\\Khamas\\utils\\image_core.py:78: UserWarning: C:\\Users\\User\\Desktop\\Meloidogyne_spp\\SCALED_Meloidogyne_1\\166.png is a low contrast image\n",
      "  ski.io.imsave(fname=path, arr=image)\n",
      "c:\\Users\\User\\Documents\\Python programm\\Khamas\\utils\\image_core.py:78: UserWarning: C:\\Users\\User\\Desktop\\Meloidogyne_spp\\SCALED_Meloidogyne_1\\187.png is a low contrast image\n",
      "  ski.io.imsave(fname=path, arr=image)\n",
      "c:\\Users\\User\\Documents\\Python programm\\Khamas\\utils\\image_core.py:78: UserWarning: C:\\Users\\User\\Desktop\\Meloidogyne_spp\\SCALED_Meloidogyne_1\\188.png is a low contrast image\n",
      "  ski.io.imsave(fname=path, arr=image)\n",
      "c:\\Users\\User\\Documents\\Python programm\\Khamas\\utils\\image_core.py:78: UserWarning: C:\\Users\\User\\Desktop\\Meloidogyne_spp\\SCALED_Meloidogyne_1\\31.png is a low contrast image\n",
      "  ski.io.imsave(fname=path, arr=image)\n",
      "c:\\Users\\User\\Documents\\Python programm\\Khamas\\utils\\image_core.py:78: UserWarning: C:\\Users\\User\\Desktop\\Meloidogyne_spp\\SCALED_Meloidogyne_1\\32.png is a low contrast image\n",
      "  ski.io.imsave(fname=path, arr=image)\n",
      "c:\\Users\\User\\Documents\\Python programm\\Khamas\\utils\\image_core.py:78: UserWarning: C:\\Users\\User\\Desktop\\Meloidogyne_spp\\SCALED_Meloidogyne_1\\43.png is a low contrast image\n",
      "  ski.io.imsave(fname=path, arr=image)\n",
      "c:\\Users\\User\\Documents\\Python programm\\Khamas\\utils\\image_core.py:78: UserWarning: C:\\Users\\User\\Desktop\\Meloidogyne_spp\\SCALED_Meloidogyne_1\\85.png is a low contrast image\n",
      "  ski.io.imsave(fname=path, arr=image)\n",
      "c:\\Users\\User\\Documents\\Python programm\\Khamas\\utils\\image_core.py:78: UserWarning: C:\\Users\\User\\Desktop\\Meloidogyne_spp\\SCALED_Meloidogyne_1\\86.png is a low contrast image\n",
      "  ski.io.imsave(fname=path, arr=image)\n",
      "c:\\Users\\User\\Documents\\Python programm\\Khamas\\utils\\image_core.py:78: UserWarning: C:\\Users\\User\\Desktop\\Meloidogyne_spp\\SCALED_Meloidogyne_1\\88.png is a low contrast image\n",
      "  ski.io.imsave(fname=path, arr=image)\n",
      "c:\\Users\\User\\Documents\\Python programm\\Khamas\\utils\\image_core.py:78: UserWarning: C:\\Users\\User\\Desktop\\Meloidogyne_spp\\SCALED_Meloidogyne_1\\9.png is a low contrast image\n",
      "  ski.io.imsave(fname=path, arr=image)\n"
     ]
    }
   ],
   "source": [
    "rescale_list_of_image(Meloidogyne_1 ,path_Meloidogyne_1)"
   ]
  },
  {
   "cell_type": "code",
   "execution_count": 15,
   "metadata": {},
   "outputs": [
    {
     "name": "stderr",
     "output_type": "stream",
     "text": [
      "c:\\Users\\User\\Documents\\Python programm\\Khamas\\utils\\image_core.py:78: UserWarning: C:\\Users\\User\\Desktop\\Meloidogyne_spp\\SCALED_Meloidogyne_2\\10.png is a low contrast image\n",
      "  ski.io.imsave(fname=path, arr=image)\n",
      "c:\\Users\\User\\Documents\\Python programm\\Khamas\\utils\\image_core.py:78: UserWarning: C:\\Users\\User\\Desktop\\Meloidogyne_spp\\SCALED_Meloidogyne_2\\101.png is a low contrast image\n",
      "  ski.io.imsave(fname=path, arr=image)\n",
      "c:\\Users\\User\\Documents\\Python programm\\Khamas\\utils\\image_core.py:78: UserWarning: C:\\Users\\User\\Desktop\\Meloidogyne_spp\\SCALED_Meloidogyne_2\\11.png is a low contrast image\n",
      "  ski.io.imsave(fname=path, arr=image)\n",
      "c:\\Users\\User\\Documents\\Python programm\\Khamas\\utils\\image_core.py:78: UserWarning: C:\\Users\\User\\Desktop\\Meloidogyne_spp\\SCALED_Meloidogyne_2\\114.png is a low contrast image\n",
      "  ski.io.imsave(fname=path, arr=image)\n",
      "c:\\Users\\User\\Documents\\Python programm\\Khamas\\utils\\image_core.py:78: UserWarning: C:\\Users\\User\\Desktop\\Meloidogyne_spp\\SCALED_Meloidogyne_2\\120.png is a low contrast image\n",
      "  ski.io.imsave(fname=path, arr=image)\n",
      "c:\\Users\\User\\Documents\\Python programm\\Khamas\\utils\\image_core.py:78: UserWarning: C:\\Users\\User\\Desktop\\Meloidogyne_spp\\SCALED_Meloidogyne_2\\123.png is a low contrast image\n",
      "  ski.io.imsave(fname=path, arr=image)\n",
      "c:\\Users\\User\\Documents\\Python programm\\Khamas\\utils\\image_core.py:78: UserWarning: C:\\Users\\User\\Desktop\\Meloidogyne_spp\\SCALED_Meloidogyne_2\\127.png is a low contrast image\n",
      "  ski.io.imsave(fname=path, arr=image)\n",
      "c:\\Users\\User\\Documents\\Python programm\\Khamas\\utils\\image_core.py:78: UserWarning: C:\\Users\\User\\Desktop\\Meloidogyne_spp\\SCALED_Meloidogyne_2\\132.png is a low contrast image\n",
      "  ski.io.imsave(fname=path, arr=image)\n",
      "c:\\Users\\User\\Documents\\Python programm\\Khamas\\utils\\image_core.py:78: UserWarning: C:\\Users\\User\\Desktop\\Meloidogyne_spp\\SCALED_Meloidogyne_2\\138.png is a low contrast image\n",
      "  ski.io.imsave(fname=path, arr=image)\n",
      "c:\\Users\\User\\Documents\\Python programm\\Khamas\\utils\\image_core.py:78: UserWarning: C:\\Users\\User\\Desktop\\Meloidogyne_spp\\SCALED_Meloidogyne_2\\153.png is a low contrast image\n",
      "  ski.io.imsave(fname=path, arr=image)\n",
      "c:\\Users\\User\\Documents\\Python programm\\Khamas\\utils\\image_core.py:78: UserWarning: C:\\Users\\User\\Desktop\\Meloidogyne_spp\\SCALED_Meloidogyne_2\\159.png is a low contrast image\n",
      "  ski.io.imsave(fname=path, arr=image)\n",
      "c:\\Users\\User\\Documents\\Python programm\\Khamas\\utils\\image_core.py:78: UserWarning: C:\\Users\\User\\Desktop\\Meloidogyne_spp\\SCALED_Meloidogyne_2\\164.png is a low contrast image\n",
      "  ski.io.imsave(fname=path, arr=image)\n",
      "c:\\Users\\User\\Documents\\Python programm\\Khamas\\utils\\image_core.py:78: UserWarning: C:\\Users\\User\\Desktop\\Meloidogyne_spp\\SCALED_Meloidogyne_2\\173.png is a low contrast image\n",
      "  ski.io.imsave(fname=path, arr=image)\n",
      "c:\\Users\\User\\Documents\\Python programm\\Khamas\\utils\\image_core.py:78: UserWarning: C:\\Users\\User\\Desktop\\Meloidogyne_spp\\SCALED_Meloidogyne_2\\18.png is a low contrast image\n",
      "  ski.io.imsave(fname=path, arr=image)\n",
      "c:\\Users\\User\\Documents\\Python programm\\Khamas\\utils\\image_core.py:78: UserWarning: C:\\Users\\User\\Desktop\\Meloidogyne_spp\\SCALED_Meloidogyne_2\\182.png is a low contrast image\n",
      "  ski.io.imsave(fname=path, arr=image)\n",
      "c:\\Users\\User\\Documents\\Python programm\\Khamas\\utils\\image_core.py:78: UserWarning: C:\\Users\\User\\Desktop\\Meloidogyne_spp\\SCALED_Meloidogyne_2\\183.png is a low contrast image\n",
      "  ski.io.imsave(fname=path, arr=image)\n",
      "c:\\Users\\User\\Documents\\Python programm\\Khamas\\utils\\image_core.py:78: UserWarning: C:\\Users\\User\\Desktop\\Meloidogyne_spp\\SCALED_Meloidogyne_2\\19.png is a low contrast image\n",
      "  ski.io.imsave(fname=path, arr=image)\n",
      "c:\\Users\\User\\Documents\\Python programm\\Khamas\\utils\\image_core.py:78: UserWarning: C:\\Users\\User\\Desktop\\Meloidogyne_spp\\SCALED_Meloidogyne_2\\197.png is a low contrast image\n",
      "  ski.io.imsave(fname=path, arr=image)\n",
      "c:\\Users\\User\\Documents\\Python programm\\Khamas\\utils\\image_core.py:78: UserWarning: C:\\Users\\User\\Desktop\\Meloidogyne_spp\\SCALED_Meloidogyne_2\\27.png is a low contrast image\n",
      "  ski.io.imsave(fname=path, arr=image)\n",
      "c:\\Users\\User\\Documents\\Python programm\\Khamas\\utils\\image_core.py:78: UserWarning: C:\\Users\\User\\Desktop\\Meloidogyne_spp\\SCALED_Meloidogyne_2\\28.png is a low contrast image\n",
      "  ski.io.imsave(fname=path, arr=image)\n",
      "c:\\Users\\User\\Documents\\Python programm\\Khamas\\utils\\image_core.py:78: UserWarning: C:\\Users\\User\\Desktop\\Meloidogyne_spp\\SCALED_Meloidogyne_2\\29.png is a low contrast image\n",
      "  ski.io.imsave(fname=path, arr=image)\n",
      "c:\\Users\\User\\Documents\\Python programm\\Khamas\\utils\\image_core.py:78: UserWarning: C:\\Users\\User\\Desktop\\Meloidogyne_spp\\SCALED_Meloidogyne_2\\30.png is a low contrast image\n",
      "  ski.io.imsave(fname=path, arr=image)\n"
     ]
    }
   ],
   "source": [
    "rescale_list_of_image(Meloidogyne_2 , path_Meloidogyne_2)"
   ]
  }
 ],
 "metadata": {
  "kernelspec": {
   "display_name": "tf",
   "language": "python",
   "name": "python3"
  },
  "language_info": {
   "codemirror_mode": {
    "name": "ipython",
    "version": 3
   },
   "file_extension": ".py",
   "mimetype": "text/x-python",
   "name": "python",
   "nbconvert_exporter": "python",
   "pygments_lexer": "ipython3",
   "version": "3.9.19"
  }
 },
 "nbformat": 4,
 "nbformat_minor": 2
}
